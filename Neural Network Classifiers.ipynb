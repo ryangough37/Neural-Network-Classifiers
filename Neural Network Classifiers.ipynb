{
 "cells": [
  {
   "cell_type": "markdown",
   "metadata": {},
   "source": [
    "# Ryan Gough\n",
    "\n",
    "## Neural Network Classifiers\n",
    "\n",
    "###### 1. Neural Network Classifier with Scikit\n",
    "Using the multi-label classifier dataset from earlier exercises (categorized-comments.jsonl in the reddit folder), fit a neural network classifier using scikit-learn. Use the code found in chapter 12 of the Applied Text Analysis with Python book as a guideline. Report the accuracy, precision, recall, F1-score, and confusion matrix.\n",
    "\n",
    "###### 2. Neural Network Classifier with Keras\n",
    "Using the multi-label classifier dataset from earlier exercises (categorized-comments.jsonl in the reddit folder), fit a neural network classifier using Keras. Use the code found in chapter 12 of the Applied Text Analysis with Python book as a guideline. Report the accuracy, precision, recall, F1-score, and confusion matrix."
   ]
  },
  {
   "cell_type": "markdown",
   "metadata": {},
   "source": [
    "### Library Preparation"
   ]
  },
  {
   "cell_type": "code",
   "execution_count": 1,
   "metadata": {},
   "outputs": [
    {
     "name": "stderr",
     "output_type": "stream",
     "text": [
      "[nltk_data] Downloading package stopwords to\n",
      "[nltk_data]     /Users/ryangough/nltk_data...\n",
      "[nltk_data]   Unzipping corpora/stopwords.zip.\n",
      "2022-06-30 13:07:04.661179: I tensorflow/core/platform/cpu_feature_guard.cc:193] This TensorFlow binary is optimized with oneAPI Deep Neural Network Library (oneDNN) to use the following CPU instructions in performance-critical operations:  AVX2 FMA\n",
      "To enable them in other operations, rebuild TensorFlow with the appropriate compiler flags.\n"
     ]
    },
    {
     "name": "stdout",
     "output_type": "stream",
     "text": [
      "WARNING:tensorflow:Please fix your imports. Module tensorflow.python.training.tracking.base has been moved to tensorflow.python.trackable.base. The old module will be deleted in version 2.11.\n",
      "WARNING:tensorflow:Please fix your imports. Module tensorflow.python.training.checkpoint_management has been moved to tensorflow.python.checkpoint.checkpoint_management. The old module will be deleted in version 2.9.\n",
      "WARNING:tensorflow:Please fix your imports. Module tensorflow.python.training.tracking.resource has been moved to tensorflow.python.trackable.resource. The old module will be deleted in version 2.11.\n",
      "WARNING:tensorflow:Please fix your imports. Module tensorflow.python.training.tracking.util has been moved to tensorflow.python.checkpoint.checkpoint. The old module will be deleted in version 2.11.\n",
      "WARNING:tensorflow:Please fix your imports. Module tensorflow.python.training.tracking.base_delegate has been moved to tensorflow.python.trackable.base_delegate. The old module will be deleted in version 2.11.\n",
      "WARNING:tensorflow:Please fix your imports. Module tensorflow.python.training.tracking.graph_view has been moved to tensorflow.python.checkpoint.graph_view. The old module will be deleted in version 2.11.\n",
      "WARNING:tensorflow:Please fix your imports. Module tensorflow.python.training.tracking.python_state has been moved to tensorflow.python.trackable.python_state. The old module will be deleted in version 2.11.\n",
      "WARNING:tensorflow:Please fix your imports. Module tensorflow.python.training.saving.functional_saver has been moved to tensorflow.python.checkpoint.functional_saver. The old module will be deleted in version 2.11.\n",
      "WARNING:tensorflow:Please fix your imports. Module tensorflow.python.training.saving.checkpoint_options has been moved to tensorflow.python.checkpoint.checkpoint_options. The old module will be deleted in version 2.11.\n"
     ]
    }
   ],
   "source": [
    "# Importing necessary libraries\n",
    "import pandas as pd\n",
    "import numpy as np\n",
    "import warnings\n",
    "warnings.filterwarnings(\"ignore\")\n",
    "import sklearn\n",
    "import string\n",
    "\n",
    "import nltk\n",
    "nltk.download('stopwords')\n",
    "from nltk.corpus import stopwords\n",
    "from nltk.stem import PorterStemmer\n",
    "import tensorflow as tf"
   ]
  },
  {
   "cell_type": "code",
   "execution_count": 2,
   "metadata": {},
   "outputs": [],
   "source": [
    "from tensorflow.keras import Sequential"
   ]
  },
  {
   "cell_type": "code",
   "execution_count": 3,
   "metadata": {},
   "outputs": [],
   "source": [
    "from tensorflow.keras.layers import Layer"
   ]
  },
  {
   "cell_type": "code",
   "execution_count": 4,
   "metadata": {},
   "outputs": [],
   "source": [
    "from tensorflow.keras import layers"
   ]
  },
  {
   "cell_type": "code",
   "execution_count": 5,
   "metadata": {},
   "outputs": [],
   "source": [
    "from tensorflow.keras.wrappers.scikit_learn import KerasClassifier"
   ]
  },
  {
   "cell_type": "markdown",
   "metadata": {},
   "source": [
    "### Step 1: Load the data into a dataframe."
   ]
  },
  {
   "cell_type": "code",
   "execution_count": 6,
   "metadata": {},
   "outputs": [],
   "source": [
    "# Load data into a dataframe\n",
    "data = pd.read_json(\"/Users/ryangough/Downloads/categorized-comments.jsonl\", lines=True, nrows = 606475)"
   ]
  },
  {
   "cell_type": "code",
   "execution_count": 7,
   "metadata": {},
   "outputs": [
    {
     "data": {
      "text/html": [
       "<div>\n",
       "<style scoped>\n",
       "    .dataframe tbody tr th:only-of-type {\n",
       "        vertical-align: middle;\n",
       "    }\n",
       "\n",
       "    .dataframe tbody tr th {\n",
       "        vertical-align: top;\n",
       "    }\n",
       "\n",
       "    .dataframe thead th {\n",
       "        text-align: right;\n",
       "    }\n",
       "</style>\n",
       "<table border=\"1\" class=\"dataframe\">\n",
       "  <thead>\n",
       "    <tr style=\"text-align: right;\">\n",
       "      <th></th>\n",
       "      <th>cat</th>\n",
       "      <th>txt</th>\n",
       "    </tr>\n",
       "  </thead>\n",
       "  <tbody>\n",
       "    <tr>\n",
       "      <th>0</th>\n",
       "      <td>sports</td>\n",
       "      <td>Barely better than Gabbert? He was significant...</td>\n",
       "    </tr>\n",
       "    <tr>\n",
       "      <th>1</th>\n",
       "      <td>sports</td>\n",
       "      <td>Fuck the ducks and the Angels! But welcome to ...</td>\n",
       "    </tr>\n",
       "    <tr>\n",
       "      <th>2</th>\n",
       "      <td>sports</td>\n",
       "      <td>Should have drafted more WRs.\\n\\n- Matt Millen...</td>\n",
       "    </tr>\n",
       "    <tr>\n",
       "      <th>3</th>\n",
       "      <td>sports</td>\n",
       "      <td>[Done](https://i.imgur.com/2YZ90pm.jpg)</td>\n",
       "    </tr>\n",
       "    <tr>\n",
       "      <th>4</th>\n",
       "      <td>sports</td>\n",
       "      <td>No!! NOO!!!!!</td>\n",
       "    </tr>\n",
       "    <tr>\n",
       "      <th>5</th>\n",
       "      <td>sports</td>\n",
       "      <td>Ding dong the Kaepers gone!!!!!! Yes!!!! Frida...</td>\n",
       "    </tr>\n",
       "    <tr>\n",
       "      <th>6</th>\n",
       "      <td>sports</td>\n",
       "      <td>yup\\n\\nThat would be best case scenario. Still...</td>\n",
       "    </tr>\n",
       "    <tr>\n",
       "      <th>7</th>\n",
       "      <td>sports</td>\n",
       "      <td>I think Larry Kruger made a good point on KNBR...</td>\n",
       "    </tr>\n",
       "    <tr>\n",
       "      <th>8</th>\n",
       "      <td>sports</td>\n",
       "      <td>This is great to have two well-regarded RB coa...</td>\n",
       "    </tr>\n",
       "    <tr>\n",
       "      <th>9</th>\n",
       "      <td>sports</td>\n",
       "      <td>7-9 next season confirmed.</td>\n",
       "    </tr>\n",
       "  </tbody>\n",
       "</table>\n",
       "</div>"
      ],
      "text/plain": [
       "      cat                                                txt\n",
       "0  sports  Barely better than Gabbert? He was significant...\n",
       "1  sports  Fuck the ducks and the Angels! But welcome to ...\n",
       "2  sports  Should have drafted more WRs.\\n\\n- Matt Millen...\n",
       "3  sports            [Done](https://i.imgur.com/2YZ90pm.jpg)\n",
       "4  sports                                      No!! NOO!!!!!\n",
       "5  sports  Ding dong the Kaepers gone!!!!!! Yes!!!! Frida...\n",
       "6  sports  yup\\n\\nThat would be best case scenario. Still...\n",
       "7  sports  I think Larry Kruger made a good point on KNBR...\n",
       "8  sports  This is great to have two well-regarded RB coa...\n",
       "9  sports                         7-9 next season confirmed."
      ]
     },
     "execution_count": 7,
     "metadata": {},
     "output_type": "execute_result"
    }
   ],
   "source": [
    "# Examining Data\n",
    "data.head(10)"
   ]
  },
  {
   "cell_type": "code",
   "execution_count": 8,
   "metadata": {},
   "outputs": [
    {
     "data": {
      "text/plain": [
       "video_games               435541\n",
       "sports                    145823\n",
       "science_and_technology     25111\n",
       "Name: cat, dtype: int64"
      ]
     },
     "execution_count": 8,
     "metadata": {},
     "output_type": "execute_result"
    }
   ],
   "source": [
    "# Assessing n for different categories. \n",
    "data.cat.value_counts()"
   ]
  },
  {
   "cell_type": "markdown",
   "metadata": {},
   "source": [
    "###### Going to sample the data into a lower quantity and remeasure the value counts."
   ]
  },
  {
   "cell_type": "code",
   "execution_count": 9,
   "metadata": {},
   "outputs": [],
   "source": [
    "# Taking a sample of the data.\n",
    "df = data.sample(5000)"
   ]
  },
  {
   "cell_type": "code",
   "execution_count": 10,
   "metadata": {},
   "outputs": [
    {
     "data": {
      "text/plain": [
       "video_games               3582\n",
       "sports                    1189\n",
       "science_and_technology     229\n",
       "Name: cat, dtype: int64"
      ]
     },
     "execution_count": 10,
     "metadata": {},
     "output_type": "execute_result"
    }
   ],
   "source": [
    "# New value counts. \n",
    "df.cat.value_counts()"
   ]
  },
  {
   "cell_type": "markdown",
   "metadata": {},
   "source": [
    "###### Preproccesing the data."
   ]
  },
  {
   "cell_type": "code",
   "execution_count": 11,
   "metadata": {},
   "outputs": [
    {
     "data": {
      "text/html": [
       "<div>\n",
       "<style scoped>\n",
       "    .dataframe tbody tr th:only-of-type {\n",
       "        vertical-align: middle;\n",
       "    }\n",
       "\n",
       "    .dataframe tbody tr th {\n",
       "        vertical-align: top;\n",
       "    }\n",
       "\n",
       "    .dataframe thead th {\n",
       "        text-align: right;\n",
       "    }\n",
       "</style>\n",
       "<table border=\"1\" class=\"dataframe\">\n",
       "  <thead>\n",
       "    <tr style=\"text-align: right;\">\n",
       "      <th></th>\n",
       "      <th>cat</th>\n",
       "      <th>txt</th>\n",
       "    </tr>\n",
       "  </thead>\n",
       "  <tbody>\n",
       "    <tr>\n",
       "      <th>174561</th>\n",
       "      <td>video_games</td>\n",
       "      <td>[deleted]</td>\n",
       "    </tr>\n",
       "    <tr>\n",
       "      <th>448547</th>\n",
       "      <td>video_games</td>\n",
       "      <td>[removed]</td>\n",
       "    </tr>\n",
       "    <tr>\n",
       "      <th>281711</th>\n",
       "      <td>video_games</td>\n",
       "      <td>no, you can't argue that mass effect is not an...</td>\n",
       "    </tr>\n",
       "    <tr>\n",
       "      <th>430623</th>\n",
       "      <td>video_games</td>\n",
       "      <td>are you talking about you, your family, or wha...</td>\n",
       "    </tr>\n",
       "    <tr>\n",
       "      <th>242114</th>\n",
       "      <td>sports</td>\n",
       "      <td>this. i have sbc dybala, and i absolutely love...</td>\n",
       "    </tr>\n",
       "    <tr>\n",
       "      <th>198693</th>\n",
       "      <td>video_games</td>\n",
       "      <td>i like and dislike that route. one of the reas...</td>\n",
       "    </tr>\n",
       "    <tr>\n",
       "      <th>564767</th>\n",
       "      <td>video_games</td>\n",
       "      <td>if zarya tracer combo is \"big bang\" then what ...</td>\n",
       "    </tr>\n",
       "    <tr>\n",
       "      <th>317045</th>\n",
       "      <td>video_games</td>\n",
       "      <td>just record it with the share button if you're...</td>\n",
       "    </tr>\n",
       "    <tr>\n",
       "      <th>535354</th>\n",
       "      <td>video_games</td>\n",
       "      <td>well that could still be enough to fuck with h...</td>\n",
       "    </tr>\n",
       "    <tr>\n",
       "      <th>281119</th>\n",
       "      <td>video_games</td>\n",
       "      <td>it's not developed by double fine at all.</td>\n",
       "    </tr>\n",
       "  </tbody>\n",
       "</table>\n",
       "</div>"
      ],
      "text/plain": [
       "                cat                                                txt\n",
       "174561  video_games                                          [deleted]\n",
       "448547  video_games                                          [removed]\n",
       "281711  video_games  no, you can't argue that mass effect is not an...\n",
       "430623  video_games  are you talking about you, your family, or wha...\n",
       "242114       sports  this. i have sbc dybala, and i absolutely love...\n",
       "198693  video_games  i like and dislike that route. one of the reas...\n",
       "564767  video_games  if zarya tracer combo is \"big bang\" then what ...\n",
       "317045  video_games  just record it with the share button if you're...\n",
       "535354  video_games  well that could still be enough to fuck with h...\n",
       "281119  video_games          it's not developed by double fine at all."
      ]
     },
     "execution_count": 11,
     "metadata": {},
     "output_type": "execute_result"
    }
   ],
   "source": [
    "# Converting all text to lowercase.\n",
    "df[\"txt\"] = df[\"txt\"].str.lower()\n",
    "df.head(10)"
   ]
  },
  {
   "cell_type": "code",
   "execution_count": 12,
   "metadata": {},
   "outputs": [
    {
     "data": {
      "text/html": [
       "<div>\n",
       "<style scoped>\n",
       "    .dataframe tbody tr th:only-of-type {\n",
       "        vertical-align: middle;\n",
       "    }\n",
       "\n",
       "    .dataframe tbody tr th {\n",
       "        vertical-align: top;\n",
       "    }\n",
       "\n",
       "    .dataframe thead th {\n",
       "        text-align: right;\n",
       "    }\n",
       "</style>\n",
       "<table border=\"1\" class=\"dataframe\">\n",
       "  <thead>\n",
       "    <tr style=\"text-align: right;\">\n",
       "      <th></th>\n",
       "      <th>cat</th>\n",
       "      <th>txt</th>\n",
       "    </tr>\n",
       "  </thead>\n",
       "  <tbody>\n",
       "    <tr>\n",
       "      <th>174561</th>\n",
       "      <td>video_games</td>\n",
       "      <td>deleted</td>\n",
       "    </tr>\n",
       "    <tr>\n",
       "      <th>448547</th>\n",
       "      <td>video_games</td>\n",
       "      <td>removed</td>\n",
       "    </tr>\n",
       "    <tr>\n",
       "      <th>281711</th>\n",
       "      <td>video_games</td>\n",
       "      <td>no you cant argue that mass effect is not an r...</td>\n",
       "    </tr>\n",
       "    <tr>\n",
       "      <th>430623</th>\n",
       "      <td>video_games</td>\n",
       "      <td>are you talking about you your family or what ...</td>\n",
       "    </tr>\n",
       "    <tr>\n",
       "      <th>242114</th>\n",
       "      <td>sports</td>\n",
       "      <td>this i have sbc dybala and i absolutely love h...</td>\n",
       "    </tr>\n",
       "    <tr>\n",
       "      <th>198693</th>\n",
       "      <td>video_games</td>\n",
       "      <td>i like and dislike that route one of the reaso...</td>\n",
       "    </tr>\n",
       "    <tr>\n",
       "      <th>564767</th>\n",
       "      <td>video_games</td>\n",
       "      <td>if zarya tracer combo is big bang then what is...</td>\n",
       "    </tr>\n",
       "    <tr>\n",
       "      <th>317045</th>\n",
       "      <td>video_games</td>\n",
       "      <td>just record it with the share button if youre ...</td>\n",
       "    </tr>\n",
       "    <tr>\n",
       "      <th>535354</th>\n",
       "      <td>video_games</td>\n",
       "      <td>well that could still be enough to fuck with h...</td>\n",
       "    </tr>\n",
       "    <tr>\n",
       "      <th>281119</th>\n",
       "      <td>video_games</td>\n",
       "      <td>its not developed by double fine at all</td>\n",
       "    </tr>\n",
       "  </tbody>\n",
       "</table>\n",
       "</div>"
      ],
      "text/plain": [
       "                cat                                                txt\n",
       "174561  video_games                                            deleted\n",
       "448547  video_games                                            removed\n",
       "281711  video_games  no you cant argue that mass effect is not an r...\n",
       "430623  video_games  are you talking about you your family or what ...\n",
       "242114       sports  this i have sbc dybala and i absolutely love h...\n",
       "198693  video_games  i like and dislike that route one of the reaso...\n",
       "564767  video_games  if zarya tracer combo is big bang then what is...\n",
       "317045  video_games  just record it with the share button if youre ...\n",
       "535354  video_games  well that could still be enough to fuck with h...\n",
       "281119  video_games            its not developed by double fine at all"
      ]
     },
     "execution_count": 12,
     "metadata": {},
     "output_type": "execute_result"
    }
   ],
   "source": [
    "# Removing punctuation using string.punctuations and join().\n",
    "\n",
    "# The function joins each string if it's not a punctuation.\n",
    "\n",
    "df['txt'] = df['txt'].apply(lambda x: \"\".join([i for i in x if i not in string.punctuation]))\n",
    "df.head(10)"
   ]
  },
  {
   "cell_type": "code",
   "execution_count": 13,
   "metadata": {},
   "outputs": [
    {
     "data": {
      "text/html": [
       "<div>\n",
       "<style scoped>\n",
       "    .dataframe tbody tr th:only-of-type {\n",
       "        vertical-align: middle;\n",
       "    }\n",
       "\n",
       "    .dataframe tbody tr th {\n",
       "        vertical-align: top;\n",
       "    }\n",
       "\n",
       "    .dataframe thead th {\n",
       "        text-align: right;\n",
       "    }\n",
       "</style>\n",
       "<table border=\"1\" class=\"dataframe\">\n",
       "  <thead>\n",
       "    <tr style=\"text-align: right;\">\n",
       "      <th></th>\n",
       "      <th>txt</th>\n",
       "      <th>stopwords</th>\n",
       "    </tr>\n",
       "  </thead>\n",
       "  <tbody>\n",
       "    <tr>\n",
       "      <th>174561</th>\n",
       "      <td>deleted</td>\n",
       "      <td>0</td>\n",
       "    </tr>\n",
       "    <tr>\n",
       "      <th>448547</th>\n",
       "      <td>removed</td>\n",
       "      <td>0</td>\n",
       "    </tr>\n",
       "    <tr>\n",
       "      <th>281711</th>\n",
       "      <td>no you cant argue that mass effect is not an r...</td>\n",
       "      <td>9</td>\n",
       "    </tr>\n",
       "    <tr>\n",
       "      <th>430623</th>\n",
       "      <td>are you talking about you your family or what ...</td>\n",
       "      <td>9</td>\n",
       "    </tr>\n",
       "    <tr>\n",
       "      <th>242114</th>\n",
       "      <td>this i have sbc dybala and i absolutely love h...</td>\n",
       "      <td>40</td>\n",
       "    </tr>\n",
       "    <tr>\n",
       "      <th>198693</th>\n",
       "      <td>i like and dislike that route one of the reaso...</td>\n",
       "      <td>20</td>\n",
       "    </tr>\n",
       "    <tr>\n",
       "      <th>564767</th>\n",
       "      <td>if zarya tracer combo is big bang then what is...</td>\n",
       "      <td>13</td>\n",
       "    </tr>\n",
       "    <tr>\n",
       "      <th>317045</th>\n",
       "      <td>just record it with the share button if youre ...</td>\n",
       "      <td>6</td>\n",
       "    </tr>\n",
       "    <tr>\n",
       "      <th>535354</th>\n",
       "      <td>well that could still be enough to fuck with h...</td>\n",
       "      <td>11</td>\n",
       "    </tr>\n",
       "    <tr>\n",
       "      <th>281119</th>\n",
       "      <td>its not developed by double fine at all</td>\n",
       "      <td>5</td>\n",
       "    </tr>\n",
       "  </tbody>\n",
       "</table>\n",
       "</div>"
      ],
      "text/plain": [
       "                                                      txt  stopwords\n",
       "174561                                            deleted          0\n",
       "448547                                            removed          0\n",
       "281711  no you cant argue that mass effect is not an r...          9\n",
       "430623  are you talking about you your family or what ...          9\n",
       "242114  this i have sbc dybala and i absolutely love h...         40\n",
       "198693  i like and dislike that route one of the reaso...         20\n",
       "564767  if zarya tracer combo is big bang then what is...         13\n",
       "317045  just record it with the share button if youre ...          6\n",
       "535354  well that could still be enough to fuck with h...         11\n",
       "281119            its not developed by double fine at all          5"
      ]
     },
     "execution_count": 13,
     "metadata": {},
     "output_type": "execute_result"
    }
   ],
   "source": [
    "# Computing the number of stopwords in each row text and making a new column with its respective frequency. \n",
    "stop = stopwords.words('english')\n",
    "\n",
    "df['stopwords'] = df['txt'].apply(lambda x: len([i for i in x.split() if i in stop]))\n",
    "df[['txt','stopwords']].head(10)"
   ]
  },
  {
   "cell_type": "code",
   "execution_count": 14,
   "metadata": {},
   "outputs": [
    {
     "data": {
      "text/plain": [
       "174561                                              deleted\n",
       "448547                                              removed\n",
       "281711    cant argue mass effect rpg bud id kind like se...\n",
       "430623             talking family youve seen general public\n",
       "242114    sbc dybala absolutely love like card also card...\n",
       "198693    like dislike route one reasons prefer dota lol...\n",
       "564767    zarya tracer combo big bang zarya dva combo ce...\n",
       "317045                        record share button youre ps4\n",
       "535354    well could still enough fuck im 100 sure would...\n",
       "281119                                developed double fine\n",
       "Name: txt, dtype: object"
      ]
     },
     "execution_count": 14,
     "metadata": {},
     "output_type": "execute_result"
    }
   ],
   "source": [
    "# Removing stop words from each row.\n",
    "df['txt'] = df['txt'].apply(lambda x: \" \".join(i for i in x.split() if i not in stop))\n",
    "df['txt'].head(10)"
   ]
  },
  {
   "cell_type": "code",
   "execution_count": 15,
   "metadata": {},
   "outputs": [
    {
     "data": {
      "text/html": [
       "<div>\n",
       "<style scoped>\n",
       "    .dataframe tbody tr th:only-of-type {\n",
       "        vertical-align: middle;\n",
       "    }\n",
       "\n",
       "    .dataframe tbody tr th {\n",
       "        vertical-align: top;\n",
       "    }\n",
       "\n",
       "    .dataframe thead th {\n",
       "        text-align: right;\n",
       "    }\n",
       "</style>\n",
       "<table border=\"1\" class=\"dataframe\">\n",
       "  <thead>\n",
       "    <tr style=\"text-align: right;\">\n",
       "      <th></th>\n",
       "      <th>txt</th>\n",
       "      <th>stopwords</th>\n",
       "    </tr>\n",
       "  </thead>\n",
       "  <tbody>\n",
       "    <tr>\n",
       "      <th>174561</th>\n",
       "      <td>deleted</td>\n",
       "      <td>0</td>\n",
       "    </tr>\n",
       "    <tr>\n",
       "      <th>448547</th>\n",
       "      <td>removed</td>\n",
       "      <td>0</td>\n",
       "    </tr>\n",
       "    <tr>\n",
       "      <th>281711</th>\n",
       "      <td>cant argue mass effect rpg bud id kind like se...</td>\n",
       "      <td>0</td>\n",
       "    </tr>\n",
       "    <tr>\n",
       "      <th>430623</th>\n",
       "      <td>talking family youve seen general public</td>\n",
       "      <td>0</td>\n",
       "    </tr>\n",
       "    <tr>\n",
       "      <th>242114</th>\n",
       "      <td>sbc dybala absolutely love like card also card...</td>\n",
       "      <td>0</td>\n",
       "    </tr>\n",
       "    <tr>\n",
       "      <th>198693</th>\n",
       "      <td>like dislike route one reasons prefer dota lol...</td>\n",
       "      <td>0</td>\n",
       "    </tr>\n",
       "    <tr>\n",
       "      <th>564767</th>\n",
       "      <td>zarya tracer combo big bang zarya dva combo ce...</td>\n",
       "      <td>0</td>\n",
       "    </tr>\n",
       "    <tr>\n",
       "      <th>317045</th>\n",
       "      <td>record share button youre ps4</td>\n",
       "      <td>0</td>\n",
       "    </tr>\n",
       "    <tr>\n",
       "      <th>535354</th>\n",
       "      <td>well could still enough fuck im 100 sure would...</td>\n",
       "      <td>0</td>\n",
       "    </tr>\n",
       "    <tr>\n",
       "      <th>281119</th>\n",
       "      <td>developed double fine</td>\n",
       "      <td>0</td>\n",
       "    </tr>\n",
       "  </tbody>\n",
       "</table>\n",
       "</div>"
      ],
      "text/plain": [
       "                                                      txt  stopwords\n",
       "174561                                            deleted          0\n",
       "448547                                            removed          0\n",
       "281711  cant argue mass effect rpg bud id kind like se...          0\n",
       "430623           talking family youve seen general public          0\n",
       "242114  sbc dybala absolutely love like card also card...          0\n",
       "198693  like dislike route one reasons prefer dota lol...          0\n",
       "564767  zarya tracer combo big bang zarya dva combo ce...          0\n",
       "317045                      record share button youre ps4          0\n",
       "535354  well could still enough fuck im 100 sure would...          0\n",
       "281119                              developed double fine          0"
      ]
     },
     "execution_count": 15,
     "metadata": {},
     "output_type": "execute_result"
    }
   ],
   "source": [
    "# Ensuring the removal of all stop words.\n",
    "df['stopwords'] = df['txt'].apply(lambda x: len([i for i in x.split() if i in stop]))\n",
    "df[['txt','stopwords']].head(10)"
   ]
  },
  {
   "cell_type": "code",
   "execution_count": 16,
   "metadata": {},
   "outputs": [
    {
     "data": {
      "text/plain": [
       "174561                                                delet\n",
       "448547                                                remov\n",
       "281711    cant argu mass effect rpg bud id kind like see...\n",
       "430623                   talk famili youv seen gener public\n",
       "242114    sbc dybala absolut love like card also card lo...\n",
       "198693    like dislik rout one reason prefer dota lol ro...\n",
       "564767    zarya tracer combo big bang zarya dva combo ce...\n",
       "317045                         record share button your ps4\n",
       "535354    well could still enough fuck im 100 sure would...\n",
       "281119                                   develop doubl fine\n",
       "Name: txt, dtype: object"
      ]
     },
     "execution_count": 16,
     "metadata": {},
     "output_type": "execute_result"
    }
   ],
   "source": [
    "# Apply NLTK’s PorterStemmer\n",
    "\n",
    "porter = PorterStemmer()\n",
    "df['txt'] = df['txt'].apply(lambda x: \" \".join([porter.stem(word) for word in x.split()]))\n",
    "df['txt'].head(10)"
   ]
  },
  {
   "cell_type": "code",
   "execution_count": 17,
   "metadata": {},
   "outputs": [],
   "source": [
    "# Substituting the categories in the cat column for numerical values to be used for analysis. \n",
    "df = df.replace({'cat': {'video_games': 0, 'sports': 1, 'science_and_technology':2}})\n",
    "df['cat']= df['cat'].astype(int)"
   ]
  },
  {
   "cell_type": "code",
   "execution_count": 18,
   "metadata": {},
   "outputs": [],
   "source": [
    "df = df[['cat', 'txt']]"
   ]
  },
  {
   "cell_type": "code",
   "execution_count": 19,
   "metadata": {},
   "outputs": [
    {
     "data": {
      "text/plain": [
       "(2000, 2)"
      ]
     },
     "execution_count": 19,
     "metadata": {},
     "output_type": "execute_result"
    }
   ],
   "source": [
    "sample = df.sample(n=2000)\n",
    "sample.shape"
   ]
  },
  {
   "cell_type": "markdown",
   "metadata": {},
   "source": [
    "###### Final processing steps. "
   ]
  },
  {
   "cell_type": "code",
   "execution_count": 20,
   "metadata": {},
   "outputs": [],
   "source": [
    "from sklearn.model_selection import train_test_split\n",
    "\n",
    "X_train, X_test, y_train, y_test = train_test_split(sample['txt'], sample['cat'], random_state = 0)"
   ]
  },
  {
   "cell_type": "code",
   "execution_count": 21,
   "metadata": {},
   "outputs": [],
   "source": [
    "from sklearn.feature_extraction.text import CountVectorizer\n",
    "count_vect = CountVectorizer()\n",
    "X_train_counts = count_vect.fit_transform(X_train)"
   ]
  },
  {
   "cell_type": "code",
   "execution_count": 22,
   "metadata": {},
   "outputs": [
    {
     "data": {
      "text/plain": [
       "(1500, 4725)"
      ]
     },
     "execution_count": 22,
     "metadata": {},
     "output_type": "execute_result"
    }
   ],
   "source": [
    "from sklearn.feature_extraction.text import TfidfTransformer\n",
    "tfidf_transformer = TfidfTransformer()\n",
    "X_train_tfidf = tfidf_transformer.fit_transform(X_train_counts)\n",
    "X_train_tfidf.shape"
   ]
  },
  {
   "cell_type": "markdown",
   "metadata": {},
   "source": [
    "# 1) Neural Network Classifier with Scikit"
   ]
  },
  {
   "cell_type": "code",
   "execution_count": 23,
   "metadata": {},
   "outputs": [],
   "source": [
    "from sklearn.neural_network import MLPClassifier\n",
    "from sklearn.model_selection import train_test_split\n",
    "from sklearn.pipeline import Pipeline\n",
    "from sklearn.model_selection import cross_val_score\n",
    "from sklearn.metrics import accuracy_score, confusion_matrix, precision_recall_fscore_support\n",
    "from sklearn.metrics import classification_report"
   ]
  },
  {
   "cell_type": "code",
   "execution_count": 24,
   "metadata": {},
   "outputs": [
    {
     "name": "stdout",
     "output_type": "stream",
     "text": [
      "Iteration 1, loss = 1.09908063\n",
      "Iteration 2, loss = 1.00096072\n",
      "Iteration 3, loss = 0.89779843\n",
      "Iteration 4, loss = 0.79527245\n",
      "Iteration 5, loss = 0.71132160\n",
      "Iteration 6, loss = 0.65518963\n",
      "Iteration 7, loss = 0.60296725\n",
      "Iteration 8, loss = 0.54279785\n",
      "Iteration 9, loss = 0.47656666\n",
      "Iteration 10, loss = 0.40785157\n",
      "Iteration 11, loss = 0.34140983\n",
      "Iteration 12, loss = 0.28058408\n",
      "Iteration 13, loss = 0.23085377\n",
      "Iteration 14, loss = 0.18997826\n",
      "Iteration 15, loss = 0.15802312\n",
      "Iteration 16, loss = 0.13287041\n",
      "Iteration 17, loss = 0.11419450\n",
      "Iteration 18, loss = 0.09989653\n",
      "Iteration 19, loss = 0.08823146\n",
      "Iteration 20, loss = 0.08018720\n",
      "Iteration 21, loss = 0.07309155\n",
      "Iteration 22, loss = 0.06911666\n",
      "Iteration 23, loss = 0.06512942\n",
      "Iteration 24, loss = 0.06185266\n",
      "Iteration 25, loss = 0.05957540\n",
      "Iteration 26, loss = 0.05779531\n",
      "Iteration 27, loss = 0.05669839\n",
      "Iteration 28, loss = 0.05545734\n",
      "Iteration 29, loss = 0.05420760\n",
      "Iteration 30, loss = 0.05349419\n",
      "Iteration 31, loss = 0.05264020\n",
      "Iteration 32, loss = 0.05172719\n",
      "Iteration 33, loss = 0.05206896\n",
      "Iteration 34, loss = 0.05107369\n",
      "Iteration 35, loss = 0.05032184\n",
      "Iteration 36, loss = 0.05011651\n",
      "Iteration 37, loss = 0.04996346\n",
      "Iteration 38, loss = 0.04943629\n",
      "Iteration 39, loss = 0.04965778\n",
      "Iteration 40, loss = 0.05047617\n",
      "Iteration 41, loss = 0.04912629\n",
      "Iteration 42, loss = 0.04900273\n",
      "Iteration 43, loss = 0.04854438\n",
      "Iteration 44, loss = 0.04827403\n",
      "Iteration 45, loss = 0.04834269\n",
      "Iteration 46, loss = 0.04840130\n",
      "Iteration 47, loss = 0.04783886\n",
      "Iteration 48, loss = 0.04789547\n",
      "Iteration 49, loss = 0.04851134\n",
      "Iteration 50, loss = 0.04803234\n",
      "Iteration 51, loss = 0.04796815\n",
      "Iteration 52, loss = 0.04728313\n",
      "Iteration 53, loss = 0.04744390\n",
      "Iteration 54, loss = 0.04744999\n",
      "Iteration 55, loss = 0.04700905\n",
      "Iteration 56, loss = 0.04761787\n",
      "Iteration 57, loss = 0.04765840\n",
      "Iteration 58, loss = 0.04681696\n",
      "Iteration 59, loss = 0.04699564\n",
      "Iteration 60, loss = 0.04651553\n",
      "Iteration 61, loss = 0.04704863\n",
      "Iteration 62, loss = 0.04745907\n",
      "Iteration 63, loss = 0.04653162\n",
      "Iteration 64, loss = 0.04707095\n",
      "Iteration 65, loss = 0.04712301\n",
      "Iteration 66, loss = 0.04784806\n",
      "Iteration 67, loss = 0.04647162\n",
      "Iteration 68, loss = 0.04678389\n",
      "Iteration 69, loss = 0.04664329\n",
      "Iteration 70, loss = 0.04634518\n",
      "Iteration 71, loss = 0.04660242\n",
      "Iteration 72, loss = 0.04613215\n",
      "Iteration 73, loss = 0.04663325\n",
      "Iteration 74, loss = 0.04625162\n",
      "Iteration 75, loss = 0.04655770\n",
      "Iteration 76, loss = 0.04642523\n",
      "Iteration 77, loss = 0.04609386\n",
      "Iteration 78, loss = 0.04643867\n",
      "Iteration 79, loss = 0.04598726\n",
      "Iteration 80, loss = 0.04600827\n",
      "Iteration 81, loss = 0.04687112\n",
      "Iteration 82, loss = 0.04652017\n",
      "Iteration 83, loss = 0.04749352\n",
      "Iteration 84, loss = 0.04591946\n",
      "Iteration 85, loss = 0.04703453\n",
      "Iteration 86, loss = 0.04600812\n",
      "Iteration 87, loss = 0.04611716\n",
      "Iteration 88, loss = 0.04618904\n",
      "Iteration 89, loss = 0.04579448\n",
      "Iteration 90, loss = 0.04593679\n",
      "Iteration 91, loss = 0.04601728\n",
      "Iteration 92, loss = 0.04600318\n",
      "Iteration 93, loss = 0.04592098\n",
      "Iteration 94, loss = 0.04612542\n",
      "Iteration 95, loss = 0.04620162\n",
      "Iteration 96, loss = 0.04634884\n",
      "Iteration 97, loss = 0.04608028\n",
      "Iteration 98, loss = 0.04578406\n",
      "Iteration 99, loss = 0.04618268\n",
      "Iteration 100, loss = 0.04595475\n",
      "Training loss did not improve more than tol=0.000100 for 10 consecutive epochs. Stopping.\n"
     ]
    }
   ],
   "source": [
    "from sklearn.pipeline import Pipeline\n",
    "text_clf = Pipeline([('vect', CountVectorizer()),\n",
    "                     ('tfidf', TfidfTransformer()),\n",
    "                     ('clf', MLPClassifier(hidden_layer_sizes =[50,150], verbose = True))])\n",
    "\n",
    "text_clf = text_clf.fit(X_train, y_train)"
   ]
  },
  {
   "cell_type": "code",
   "execution_count": 25,
   "metadata": {},
   "outputs": [],
   "source": [
    "y_hat = text_clf.predict(X_test)"
   ]
  },
  {
   "cell_type": "code",
   "execution_count": 26,
   "metadata": {},
   "outputs": [],
   "source": [
    "from sklearn.metrics import f1_score, precision_score, recall_score\n",
    "f1 = f1_score(y_test, y_hat, average='macro')\n",
    "recall = recall_score(y_test, y_hat, average='macro')\n",
    "precision = precision_score(y_test, y_hat, average='macro')\n",
    "accuracy = text_clf.score(X_test, y_test)"
   ]
  },
  {
   "cell_type": "code",
   "execution_count": 27,
   "metadata": {},
   "outputs": [
    {
     "name": "stdout",
     "output_type": "stream",
     "text": [
      "Accuracy score: 0.716\n",
      "Precision score: 0.47796273177047205\n",
      "Recall score: 0.43014048531289917\n",
      "F1 score: 0.4380785376481216\n"
     ]
    }
   ],
   "source": [
    "print(\"Accuracy score: {}\".format(accuracy))\n",
    "print(\"Precision score: {}\".format(precision))\n",
    "print(\"Recall score: {}\".format(recall))\n",
    "print(\"F1 score: {}\".format(f1))"
   ]
  },
  {
   "cell_type": "code",
   "execution_count": 28,
   "metadata": {},
   "outputs": [],
   "source": [
    "from sklearn.metrics import confusion_matrix\n",
    "import matplotlib.pyplot as plt\n",
    "import seaborn as sns"
   ]
  },
  {
   "cell_type": "code",
   "execution_count": 29,
   "metadata": {
    "scrolled": true
   },
   "outputs": [
    {
     "data": {
      "image/png": "[encoded data removed]",
      "text/plain": [
       "<Figure size 432x288 with 1 Axes>"
      ]
     },
     "metadata": {
      "needs_background": "light"
     },
     "output_type": "display_data"
    }
   ],
   "source": [
    "# visualizing the Score\n",
    "plt.rcParams['figure.figsize'] = (10,10)\n",
    "plt.rcParams['font.size'] = 20\n",
    "\n",
    "matrix = confusion_matrix(y_test, y_hat)\n",
    "class_names = ['video games', 'sports', 'science & technology']\n",
    "# Create pandas dataframe\n",
    "dataframe = pd.DataFrame(matrix,index=class_names, columns=class_names)\n",
    "\n",
    "# Create heatmap\n",
    "sns.heatmap(dataframe, annot=True, cbar=None, cmap=\"Blues\")\n",
    "plt.title(\"Confusion Matrix\"), plt.tight_layout()\n",
    "plt.ylabel(\"True Class\"), plt.xlabel(\"Predicted Class\")\n",
    "plt.show()"
   ]
  },
  {
   "cell_type": "markdown",
   "metadata": {},
   "source": [
    "# 2) Neural Network Classifier with Keras"
   ]
  },
  {
   "cell_type": "code",
   "execution_count": 30,
   "metadata": {},
   "outputs": [],
   "source": [
    "from tensorflow.keras.layers import Dense"
   ]
  },
  {
   "cell_type": "code",
   "execution_count": 31,
   "metadata": {},
   "outputs": [
    {
     "data": {
      "text/plain": [
       "4725"
      ]
     },
     "execution_count": 31,
     "metadata": {},
     "output_type": "execute_result"
    }
   ],
   "source": [
    "input_dim = X_train_tfidf.shape[1]\n",
    "input_dim"
   ]
  },
  {
   "cell_type": "code",
   "execution_count": 32,
   "metadata": {},
   "outputs": [],
   "source": [
    "def build_network():\n",
    "    \"\"\"\n",
    "    Create a function that returns a compiled neural network\n",
    "    \"\"\"\n",
    "    nn = Sequential()\n",
    "    nn.add(Dense(500, activation='relu', input_shape=(input_dim,)))\n",
    "    nn.add(Dense(150, activation='relu'))\n",
    "    nn.add(Dense(3, activation='softmax'))\n",
    "    nn.compile(\n",
    "         loss='categorical_crossentropy',\n",
    "         optimizer='adam',\n",
    "         metrics=['accuracy']\n",
    "    )\n",
    "    return nn"
   ]
  },
  {
   "cell_type": "code",
   "execution_count": 33,
   "metadata": {},
   "outputs": [],
   "source": [
    "def convert_sparse_matrix_to_sparse_tensor(X):\n",
    "    coo = X.tocoo()\n",
    "    indices = np.mat([coo.row, coo.col]).transpose()\n",
    "    return tf.sparse.reorder(tf.SparseTensor(indices, coo.data, coo.shape))"
   ]
  },
  {
   "cell_type": "code",
   "execution_count": 34,
   "metadata": {},
   "outputs": [],
   "source": [
    "from sklearn.pipeline import Pipeline\n",
    "from sklearn.feature_extraction.text import TfidfVectorizer"
   ]
  },
  {
   "cell_type": "code",
   "execution_count": 35,
   "metadata": {},
   "outputs": [
    {
     "name": "stderr",
     "output_type": "stream",
     "text": [
      "2022-06-30 13:07:47.270078: I tensorflow/core/platform/cpu_feature_guard.cc:193] This TensorFlow binary is optimized with oneAPI Deep Neural Network Library (oneDNN) to use the following CPU instructions in performance-critical operations:  AVX2 FMA\n",
      "To enable them in other operations, rebuild TensorFlow with the appropriate compiler flags.\n"
     ]
    }
   ],
   "source": [
    "vectorizer = TfidfVectorizer(max_features=input_dim)\n",
    "\n",
    " \n",
    "\n",
    "X_train = vectorizer.fit_transform(X_train)\n",
    "X_test = vectorizer.transform(X_test)\n",
    "X_train = convert_sparse_matrix_to_sparse_tensor(X_train)\n",
    "X_test = convert_sparse_matrix_to_sparse_tensor(X_test)"
   ]
  },
  {
   "cell_type": "code",
   "execution_count": 36,
   "metadata": {},
   "outputs": [
    {
     "name": "stdout",
     "output_type": "stream",
     "text": [
      "Epoch 1/50\n",
      "12/12 [==============================] - 1s 22ms/step - loss: 0.9657 - accuracy: 0.6740\n",
      "Epoch 2/50\n",
      "12/12 [==============================] - 0s 23ms/step - loss: 0.6888 - accuracy: 0.7047\n",
      "Epoch 3/50\n",
      "12/12 [==============================] - 0s 21ms/step - loss: 0.5492 - accuracy: 0.7053\n",
      "Epoch 4/50\n",
      "12/12 [==============================] - 0s 22ms/step - loss: 0.4058 - accuracy: 0.8000\n",
      "Epoch 5/50\n",
      "12/12 [==============================] - 0s 22ms/step - loss: 0.2717 - accuracy: 0.9200\n",
      "Epoch 6/50\n",
      "12/12 [==============================] - 0s 22ms/step - loss: 0.1795 - accuracy: 0.9333\n",
      "Epoch 7/50\n",
      "12/12 [==============================] - 0s 21ms/step - loss: 0.1347 - accuracy: 0.9360\n",
      "Epoch 8/50\n",
      "12/12 [==============================] - 0s 20ms/step - loss: 0.1136 - accuracy: 0.9367\n",
      "Epoch 9/50\n",
      "12/12 [==============================] - 0s 22ms/step - loss: 0.0976 - accuracy: 0.9607\n",
      "Epoch 10/50\n",
      "12/12 [==============================] - 0s 21ms/step - loss: 0.0847 - accuracy: 0.9747\n",
      "Epoch 11/50\n",
      "12/12 [==============================] - 0s 21ms/step - loss: 0.0723 - accuracy: 0.9793\n",
      "Epoch 12/50\n",
      "12/12 [==============================] - 0s 21ms/step - loss: 0.0588 - accuracy: 0.9800\n",
      "Epoch 13/50\n",
      "12/12 [==============================] - 0s 20ms/step - loss: 0.0549 - accuracy: 0.9787\n",
      "Epoch 14/50\n",
      "12/12 [==============================] - 0s 20ms/step - loss: 0.0511 - accuracy: 0.9800\n",
      "Epoch 15/50\n",
      "12/12 [==============================] - 0s 20ms/step - loss: 0.0514 - accuracy: 0.9800\n",
      "Epoch 16/50\n",
      "12/12 [==============================] - 0s 20ms/step - loss: 0.0506 - accuracy: 0.9800\n",
      "Epoch 17/50\n",
      "12/12 [==============================] - 0s 21ms/step - loss: 0.0513 - accuracy: 0.9793\n",
      "Epoch 18/50\n",
      "12/12 [==============================] - 0s 21ms/step - loss: 0.0486 - accuracy: 0.9793\n",
      "Epoch 19/50\n",
      "12/12 [==============================] - 0s 21ms/step - loss: 0.0489 - accuracy: 0.9800\n",
      "Epoch 20/50\n",
      "12/12 [==============================] - 0s 21ms/step - loss: 0.0487 - accuracy: 0.9800\n",
      "Epoch 21/50\n",
      "12/12 [==============================] - 0s 22ms/step - loss: 0.0471 - accuracy: 0.9793\n",
      "Epoch 22/50\n",
      "12/12 [==============================] - 0s 20ms/step - loss: 0.0482 - accuracy: 0.9793\n",
      "Epoch 23/50\n",
      "12/12 [==============================] - 0s 21ms/step - loss: 0.0479 - accuracy: 0.9800\n",
      "Epoch 24/50\n",
      "12/12 [==============================] - 0s 21ms/step - loss: 0.0504 - accuracy: 0.9760\n",
      "Epoch 25/50\n",
      "12/12 [==============================] - 0s 20ms/step - loss: 0.0532 - accuracy: 0.9800\n",
      "Epoch 26/50\n",
      "12/12 [==============================] - 0s 21ms/step - loss: 0.0492 - accuracy: 0.9793\n",
      "Epoch 27/50\n",
      "12/12 [==============================] - 0s 20ms/step - loss: 0.0484 - accuracy: 0.9800\n",
      "Epoch 28/50\n",
      "12/12 [==============================] - 0s 21ms/step - loss: 0.0480 - accuracy: 0.9807\n",
      "Epoch 29/50\n",
      "12/12 [==============================] - 0s 22ms/step - loss: 0.0483 - accuracy: 0.9800\n",
      "Epoch 30/50\n",
      "12/12 [==============================] - 0s 20ms/step - loss: 0.0477 - accuracy: 0.9800\n",
      "Epoch 31/50\n",
      "12/12 [==============================] - 0s 20ms/step - loss: 0.0484 - accuracy: 0.9793\n",
      "Epoch 32/50\n",
      "12/12 [==============================] - 0s 21ms/step - loss: 0.0478 - accuracy: 0.9800\n",
      "Epoch 33/50\n",
      "12/12 [==============================] - 0s 21ms/step - loss: 0.0493 - accuracy: 0.9740\n",
      "Epoch 34/50\n",
      "12/12 [==============================] - 0s 21ms/step - loss: 0.0482 - accuracy: 0.9800\n",
      "Epoch 35/50\n",
      "12/12 [==============================] - 0s 22ms/step - loss: 0.0478 - accuracy: 0.9793\n",
      "Epoch 36/50\n",
      "12/12 [==============================] - 0s 22ms/step - loss: 0.0477 - accuracy: 0.9793\n",
      "Epoch 37/50\n",
      "12/12 [==============================] - 0s 22ms/step - loss: 0.0477 - accuracy: 0.9787\n",
      "Epoch 38/50\n",
      "12/12 [==============================] - 0s 22ms/step - loss: 0.0471 - accuracy: 0.9800\n",
      "Epoch 39/50\n",
      "12/12 [==============================] - 0s 21ms/step - loss: 0.0502 - accuracy: 0.9800\n",
      "Epoch 40/50\n",
      "12/12 [==============================] - 0s 22ms/step - loss: 0.0502 - accuracy: 0.9800\n",
      "Epoch 41/50\n",
      "12/12 [==============================] - 0s 21ms/step - loss: 0.0484 - accuracy: 0.9727\n",
      "Epoch 42/50\n",
      "12/12 [==============================] - 0s 22ms/step - loss: 0.0479 - accuracy: 0.9793\n",
      "Epoch 43/50\n",
      "12/12 [==============================] - 0s 24ms/step - loss: 0.0486 - accuracy: 0.9800\n",
      "Epoch 44/50\n",
      "12/12 [==============================] - 0s 23ms/step - loss: 0.0497 - accuracy: 0.9787\n",
      "Epoch 45/50\n",
      "12/12 [==============================] - 0s 23ms/step - loss: 0.0471 - accuracy: 0.9800\n",
      "Epoch 46/50\n",
      "12/12 [==============================] - 0s 22ms/step - loss: 0.0502 - accuracy: 0.9800\n",
      "Epoch 47/50\n",
      "12/12 [==============================] - 0s 23ms/step - loss: 0.0476 - accuracy: 0.9800\n",
      "Epoch 48/50\n",
      "12/12 [==============================] - 0s 22ms/step - loss: 0.0468 - accuracy: 0.9793\n",
      "Epoch 49/50\n",
      "12/12 [==============================] - 0s 22ms/step - loss: 0.0468 - accuracy: 0.9800\n",
      "Epoch 50/50\n",
      "12/12 [==============================] - 0s 22ms/step - loss: 0.0476 - accuracy: 0.9793\n"
     ]
    }
   ],
   "source": [
    "from sklearn.pipeline import Pipeline\n",
    "text_clf = Pipeline([#('vect', CountVectorizer()),\n",
    "                     #('tfidf', TfidfTransformer()),\n",
    "                     ('clf2', KerasClassifier(build_fn = build_network, \n",
    "                                              epochs = 50, batch_size = 128))])\n",
    "\n",
    "text_clf = text_clf.fit(X_train, y_train)"
   ]
  },
  {
   "cell_type": "code",
   "execution_count": 37,
   "metadata": {},
   "outputs": [
    {
     "name": "stdout",
     "output_type": "stream",
     "text": [
      "16/16 [==============================] - 0s 1ms/step\n"
     ]
    }
   ],
   "source": [
    "y_hat = text_clf.predict(X_test)"
   ]
  },
  {
   "cell_type": "code",
   "execution_count": 38,
   "metadata": {},
   "outputs": [
    {
     "name": "stdout",
     "output_type": "stream",
     "text": [
      "4/4 [==============================] - 0s 4ms/step - loss: 1.3128 - accuracy: 0.7140\n"
     ]
    }
   ],
   "source": [
    "f1 = f1_score(y_test, y_hat, average='macro')\n",
    "recall = recall_score(y_test, y_hat, average='macro')\n",
    "precision = precision_score(y_test, y_hat, average='macro')\n",
    "accuracy = text_clf.score(X_test, y_test)"
   ]
  },
  {
   "cell_type": "code",
   "execution_count": 39,
   "metadata": {},
   "outputs": [
    {
     "name": "stdout",
     "output_type": "stream",
     "text": [
      "Accuracy score: 0.7139999866485596\n",
      "Precision score: 0.4732890499194847\n",
      "Recall score: 0.41947637292464884\n",
      "F1 score: 0.4279157657895199\n"
     ]
    }
   ],
   "source": [
    "print(\"Accuracy score: {}\".format(accuracy))\n",
    "print(\"Precision score: {}\".format(precision))\n",
    "print(\"Recall score: {}\".format(recall))\n",
    "print(\"F1 score: {}\".format(f1))"
   ]
  },
  {
   "cell_type": "code",
   "execution_count": 40,
   "metadata": {
    "scrolled": true
   },
   "outputs": [
    {
     "data": {
      "image/png": "[encoded data removed]",
      "text/plain": [
       "<Figure size 720x720 with 1 Axes>"
      ]
     },
     "metadata": {
      "needs_background": "light"
     },
     "output_type": "display_data"
    }
   ],
   "source": [
    "# visualizing the Score\n",
    "plt.rcParams['figure.figsize'] = (10,10)\n",
    "plt.rcParams['font.size'] = 20\n",
    "\n",
    "matrix = confusion_matrix(y_test, y_hat)\n",
    "class_names = ['video games', 'sports', 'science & technology']\n",
    "# Create pandas dataframe\n",
    "dataframe = pd.DataFrame(matrix,index=class_names, columns=class_names)\n",
    "\n",
    "# Create heatmap\n",
    "sns.heatmap(dataframe, annot=True, cbar=None, cmap=\"Blues\")\n",
    "plt.title(\"Confusion Matrix\"), plt.tight_layout()\n",
    "plt.ylabel(\"True Class\"), plt.xlabel(\"Predicted Class\")\n",
    "plt.show()"
   ]
  }
 ],
 "metadata": {
  "kernelspec": {
   "display_name": "Python 3 (ipykernel)",
   "language": "python",
   "name": "python3"
  },
  "language_info": {
   "codemirror_mode": {
    "name": "ipython",
    "version": 3
   },
   "file_extension": ".py",
   "mimetype": "text/x-python",
   "name": "python",
   "nbconvert_exporter": "python",
   "pygments_lexer": "ipython3",
   "version": "3.8.2"
  }
 },
 "nbformat": 4,
 "nbformat_minor": 4
}
